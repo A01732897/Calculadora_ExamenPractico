{
 "cells": [
  {
   "cell_type": "code",
   "execution_count": 4,
   "metadata": {},
   "outputs": [
    {
     "ename": "SyntaxError",
     "evalue": "invalid syntax (1543347356.py, line 22)",
     "output_type": "error",
     "traceback": [
      "\u001b[1;36m  Cell \u001b[1;32mIn[4], line 22\u001b[1;36m\u001b[0m\n\u001b[1;33m    res =\u001b[0m\n\u001b[1;37m          ^\u001b[0m\n\u001b[1;31mSyntaxError\u001b[0m\u001b[1;31m:\u001b[0m invalid syntax\n"
     ]
    }
   ],
   "source": [
    "def Mult(x,y):\n",
    "    return x*y\n",
    "def calculadora():\n",
    "    print(\"¿Qué operación realizarás el día de hoy?\")\n",
    "    print(\"1.- Suma\")\n",
    "    print(\"2.- Resta\")\n",
    "    print(\"3.- Multiplicación\")\n",
    "    print(\"4.- División\")\n",
    "    print(\"5.- Salir\")\n",
    "    \n",
    "    operacion = input(\"Elige una opción: \")\n",
    "\n",
    "    if operacion == '5':\n",
    "        print(\"¡Gracias por usar la calculadora!\")\n",
    "        return\n",
    "    \n",
    "    print(\"¡Perfecto! Ahora dime los dos números\")\n",
    "    x = float(input(\"Dame el primer número: \"))\n",
    "    y = float(input(\"Dame el segundo número: \"))\n",
    "\n",
    "    if operacion == '1':\n",
    "        res = \n",
    "        print(f\"El resultado de la suma es: {res}\")\n",
    "    elif operacion == '2':\n",
    "        res = \n",
    "        print(f\"El resultado de la resta es: {res}\")\n",
    "    elif operacion == '3':\n",
    "        res = Mult(x,y)\n",
    "        print(f\"El resultado de la multiplicación es: {res}\")\n",
    "    elif operacion == '4':\n",
    "        res = \n",
    "        print(f\"El resultado de la división es: {res}\")\n",
    "    else:\n",
    "        print(\"Opción no válida. Por favor, selecciona una opción entre 1 y 5.\")\n",
    "\n",
    "print(\"¡Bienvenidos a la calculadora de dos números del equipo 1!\")\n",
    "while True:\n",
    "    calculadora()\n",
    "    salir = input(\"¿Deseas realizar otra operación? (s/n): \")\n",
    "    if salir.lower() != 's':\n",
    "        break\n",
    "\n",
    "print(\"¡Hasta luego!\")\n",
    "\n",
    "\n"
   ]
  },
  {
   "cell_type": "code",
   "execution_count": null,
   "metadata": {},
   "outputs": [],
   "source": []
  }
 ],
 "metadata": {
  "kernelspec": {
   "display_name": "Python 3",
   "language": "python",
   "name": "python3"
  },
  "language_info": {
   "codemirror_mode": {
    "name": "ipython",
    "version": 3
   },
   "file_extension": ".py",
   "mimetype": "text/x-python",
   "name": "python",
   "nbconvert_exporter": "python",
   "pygments_lexer": "ipython3",
   "version": "3.11.9"
  }
 },
 "nbformat": 4,
 "nbformat_minor": 2
}
